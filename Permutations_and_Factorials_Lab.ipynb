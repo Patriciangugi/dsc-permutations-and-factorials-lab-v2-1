{
  "nbformat": 4,
  "nbformat_minor": 0,
  "metadata": {
    "colab": {
      "provenance": [],
      "authorship_tag": "ABX9TyPHbwbNU1oitNXQtfPkx6YD",
      "include_colab_link": true
    },
    "kernelspec": {
      "name": "python3",
      "display_name": "Python 3"
    },
    "language_info": {
      "name": "python"
    }
  },
  "cells": [
    {
      "cell_type": "markdown",
      "metadata": {
        "id": "view-in-github",
        "colab_type": "text"
      },
      "source": [
        "<a href=\"https://colab.research.google.com/github/Patriciangugi/dsc-permutations-and-factorials-lab-v2-1/blob/master/Permutations_and_Factorials_Lab.ipynb\" target=\"_parent\"><img src=\"https://colab.research.google.com/assets/colab-badge.svg\" alt=\"Open In Colab\"/></a>"
      ]
    },
    {
      "cell_type": "code",
      "execution_count": null,
      "metadata": {
        "id": "HkXLZAMyYxAo"
      },
      "outputs": [],
      "source": [
        "setlist = 3*2*1"
      ]
    },
    {
      "cell_type": "code",
      "source": [
        "setlist = 10*9*8*7*6*5*4*3*2*1"
      ],
      "metadata": {
        "id": "eOdvHXrjYxwA"
      },
      "execution_count": null,
      "outputs": []
    },
    {
      "cell_type": "code",
      "source": [
        "def factorial(n):\n",
        "    prod = 1\n",
        "    while n > 0:\n",
        "        prod *= n\n",
        "        n -= 1\n",
        "    return prod\n"
      ],
      "metadata": {
        "id": "psuP9V4yYx0x"
      },
      "execution_count": null,
      "outputs": []
    },
    {
      "cell_type": "code",
      "source": [
        "def factorial(n):\n",
        "    prod = 1\n",
        "    while n > 0:\n",
        "        prod *= n\n",
        "        n -= 1\n",
        "    return prod\n",
        "\n",
        "result = factorial(20)\n",
        "print(f\"The factorial of 20 is: {result}\")"
      ],
      "metadata": {
        "colab": {
          "base_uri": "https://localhost:8080/"
        },
        "id": "nvQ0EZtTYx52",
        "outputId": "76982873-d003-4dcb-80ae-b98e97c1a790"
      },
      "execution_count": null,
      "outputs": [
        {
          "output_type": "stream",
          "name": "stdout",
          "text": [
            "The factorial of 20 is: 2432902008176640000\n"
          ]
        }
      ]
    },
    {
      "cell_type": "code",
      "source": [
        "import math\n",
        "\n",
        "def factorial(n):\n",
        "    prod = 1\n",
        "    while n > 0:\n",
        "        prod *= n\n",
        "        n -= 1\n",
        "    return prod"
      ],
      "metadata": {
        "id": "QlIZ9spKYx-N"
      },
      "execution_count": null,
      "outputs": []
    },
    {
      "cell_type": "code",
      "source": [
        "result_custom = factorial(20)\n",
        "print(f\"{result_custom}\")"
      ],
      "metadata": {
        "colab": {
          "base_uri": "https://localhost:8080/"
        },
        "id": "0ZhB281iYyCQ",
        "outputId": "aecb4133-b335-42fa-dba0-b02c9720322b"
      },
      "execution_count": null,
      "outputs": [
        {
          "output_type": "stream",
          "name": "stdout",
          "text": [
            "2432902008176640000\n"
          ]
        }
      ]
    },
    {
      "cell_type": "code",
      "source": [
        "result_math = math.factorial(20)\n",
        "print(f\"{result_math}\")"
      ],
      "metadata": {
        "colab": {
          "base_uri": "https://localhost:8080/"
        },
        "id": "ZxV6hrTDYyFv",
        "outputId": "1f25ef96-3fca-4296-de4e-5b66c7cb6489"
      },
      "execution_count": null,
      "outputs": [
        {
          "output_type": "stream",
          "name": "stdout",
          "text": [
            "2432902008176640000\n"
          ]
        }
      ]
    },
    {
      "cell_type": "code",
      "source": [
        "import math\n",
        "\n",
        "total_appointments = 6\n",
        "num_males = 3\n",
        "num_females = 3\n",
        "\n",
        "total_permutations = math.factorial(total_appointments)\n",
        "\n",
        "factorial_males = math.factorial(num_males)\n",
        "factorial_females = math.factorial(num_females)\n",
        "permutations_gender = total_permutations // (factorial_males * factorial_females)\n",
        "\n",
        "print(f\"{permutations_gender}\")"
      ],
      "metadata": {
        "colab": {
          "base_uri": "https://localhost:8080/"
        },
        "id": "4g314EoNYyJB",
        "outputId": "9dfd94b0-aec5-4df2-bc09-350398795b9f"
      },
      "execution_count": null,
      "outputs": [
        {
          "output_type": "stream",
          "name": "stdout",
          "text": [
            "20\n"
          ]
        }
      ]
    },
    {
      "cell_type": "code",
      "source": [
        "app_denom = factorial_males * factorial_females\n",
        "print(f\"{app_denom}\")"
      ],
      "metadata": {
        "colab": {
          "base_uri": "https://localhost:8080/"
        },
        "id": "u82BtuzocX0b",
        "outputId": "5dfb8413-ed2b-4734-d6c8-b17dba5156de"
      },
      "execution_count": null,
      "outputs": [
        {
          "output_type": "stream",
          "name": "stdout",
          "text": [
            "36\n"
          ]
        }
      ]
    },
    {
      "cell_type": "code",
      "source": [
        "app_total = total_permutations // (factorial_males * factorial_females)\n",
        "print(f\"{app_total}\")"
      ],
      "metadata": {
        "colab": {
          "base_uri": "https://localhost:8080/"
        },
        "id": "wPcL_UUYcX5W",
        "outputId": "ac751447-ae75-4015-dbd9-6855a8327201"
      },
      "execution_count": null,
      "outputs": [
        {
          "output_type": "stream",
          "name": "stdout",
          "text": [
            "20\n"
          ]
        }
      ]
    },
    {
      "cell_type": "code",
      "source": [
        "denom_phone = 10**4\n",
        "\n",
        "print(f\"{denom_phone}\")"
      ],
      "metadata": {
        "colab": {
          "base_uri": "https://localhost:8080/"
        },
        "id": "iB5XcP0GcX9O",
        "outputId": "4aa7abf5-cddd-4d1e-8555-08da5a5e1b1a"
      },
      "execution_count": null,
      "outputs": [
        {
          "output_type": "stream",
          "name": "stdout",
          "text": [
            "10000\n"
          ]
        }
      ]
    },
    {
      "cell_type": "code",
      "source": [
        "numer_phone = 5\n",
        "\n",
        "print(f\"{numer_phone}\")"
      ],
      "metadata": {
        "colab": {
          "base_uri": "https://localhost:8080/"
        },
        "id": "43LI2K5EcYAx",
        "outputId": "ce139a78-8314-4002-f64a-9b602c5731cb"
      },
      "execution_count": null,
      "outputs": [
        {
          "output_type": "stream",
          "name": "stdout",
          "text": [
            "5\n"
          ]
        }
      ]
    },
    {
      "cell_type": "code",
      "source": [
        "prob_unlock = numer_phone / denom_phone\n",
        "\n",
        "print(f\"{prob_unlock}\")"
      ],
      "metadata": {
        "colab": {
          "base_uri": "https://localhost:8080/"
        },
        "id": "TMbJe1VhfPLX",
        "outputId": "a70f0c77-ee7d-4e09-8fc1-255284877562"
      },
      "execution_count": null,
      "outputs": [
        {
          "output_type": "stream",
          "name": "stdout",
          "text": [
            "0.0005\n"
          ]
        }
      ]
    },
    {
      "cell_type": "code",
      "source": [
        "digits = [3, 4, 7, 8]\n",
        "code_length = 4\n",
        "denom_phone_smudge = math.factorial(len(digits)) // math.factorial(len(digits) - code_length)\n",
        "\n",
        "print(f\"{denom_phone_smudge}\")"
      ],
      "metadata": {
        "colab": {
          "base_uri": "https://localhost:8080/"
        },
        "id": "WeU2qt2ufPTL",
        "outputId": "78a613b2-28d3-4190-ef76-4155946fe466"
      },
      "execution_count": null,
      "outputs": [
        {
          "output_type": "stream",
          "name": "stdout",
          "text": [
            "24\n"
          ]
        }
      ]
    },
    {
      "cell_type": "code",
      "source": [
        "digits_smudge = [3, 4, 7, 8]\n",
        "code_length = 4\n",
        "numer_phone_smudge = math.factorial(len(digits_smudge))\n",
        "\n",
        "print(f\"{numer_phone_smudge}\")"
      ],
      "metadata": {
        "colab": {
          "base_uri": "https://localhost:8080/"
        },
        "id": "689UxHvNgGDF",
        "outputId": "3e5b34a6-ab64-4f5d-fa25-bde878c91e7f"
      },
      "execution_count": null,
      "outputs": [
        {
          "output_type": "stream",
          "name": "stdout",
          "text": [
            "24\n"
          ]
        }
      ]
    },
    {
      "cell_type": "code",
      "source": [
        "prob_unlock_smudge = numer_phone_smudge / denom_phone_smudge\n",
        "\n",
        "print(f\"{prob_unlock_smudge}\")"
      ],
      "metadata": {
        "colab": {
          "base_uri": "https://localhost:8080/"
        },
        "id": "pwYPuQwpgGPj",
        "outputId": "9cd07c21-cc9c-43e9-b0a6-9e7348a7a1d0"
      },
      "execution_count": null,
      "outputs": [
        {
          "output_type": "stream",
          "name": "stdout",
          "text": [
            "1.0\n"
          ]
        }
      ]
    },
    {
      "cell_type": "code",
      "source": [
        "digits_smudge_2 = [2, 7, 8]\n",
        "code_length = 4\n",
        "denom_phone_smudge_2 = math.factorial(len(digits_smudge_2) + code_length - 1) // (math.factorial(len(digits_smudge_2)) * math.factorial(code_length - 1))\n",
        "\n",
        "print(f\"{denom_phone_smudge_2}\")"
      ],
      "metadata": {
        "colab": {
          "base_uri": "https://localhost:8080/"
        },
        "id": "9a6HIvzOgGYS",
        "outputId": "d2bde9a9-7679-40a7-8f6d-74a91aca8901"
      },
      "execution_count": null,
      "outputs": [
        {
          "output_type": "stream",
          "name": "stdout",
          "text": [
            "20\n"
          ]
        }
      ]
    },
    {
      "cell_type": "code",
      "source": [
        "numer_phone_smudge_2 = 24\n"
      ],
      "metadata": {
        "id": "In7-6Tjjh-Mh"
      },
      "execution_count": 1,
      "outputs": []
    },
    {
      "cell_type": "code",
      "source": [
        "numer_phone_smudge_2 = 24\n",
        "denom_phone_smudge_2 = 20\n",
        "prob_unlock_smudge_2 = numer_phone_smudge_2 / denom_phone_smudge_2\n",
        "\n",
        "print(f\"{prob_unlock_smudge_2}\")"
      ],
      "metadata": {
        "colab": {
          "base_uri": "https://localhost:8080/"
        },
        "id": "QSrmeITFh-Tx",
        "outputId": "fe213122-7803-4b86-ed99-627268010d8f"
      },
      "execution_count": 3,
      "outputs": [
        {
          "output_type": "stream",
          "name": "stdout",
          "text": [
            "1.2\n"
          ]
        }
      ]
    },
    {
      "cell_type": "code",
      "source": [
        "sample_space_fh = 6 ** 5\n",
        "\n",
        "print(f\"{sample_space_fh}\")"
      ],
      "metadata": {
        "colab": {
          "base_uri": "https://localhost:8080/"
        },
        "id": "3hJcPfnth-Z0",
        "outputId": "7a9fdd0e-1b31-4dcf-8d10-214594235c2e"
      },
      "execution_count": 4,
      "outputs": [
        {
          "output_type": "stream",
          "name": "stdout",
          "text": [
            "7776\n"
          ]
        }
      ]
    },
    {
      "cell_type": "code",
      "source": [
        "import math\n",
        "\n",
        "pair_number = 4\n",
        "three_of_a_kind_number = 6\n",
        "\n",
        "ways_to_throw_given_fh = math.factorial(5) // (math.factorial(2) * math.factorial(3))\n",
        "\n",
        "print(f\"{pair_number}s and three {three_of_a_kind_number}s: {ways_to_throw_given_fh}\")"
      ],
      "metadata": {
        "colab": {
          "base_uri": "https://localhost:8080/"
        },
        "id": "W_63znKojvOs",
        "outputId": "b966032a-6fda-47c7-8181-ace2e34a2d3f"
      },
      "execution_count": 5,
      "outputs": [
        {
          "output_type": "stream",
          "name": "stdout",
          "text": [
            "4s and three 6s: 10\n"
          ]
        }
      ]
    },
    {
      "cell_type": "code",
      "source": [
        "diff_fhses = 0\n",
        "\n",
        "for pair_number in range(1, 7):\n",
        "    for three_of_a_kind_number in range(1, 7):\n",
        "        if pair_number != three_of_a_kind_number:\n",
        "\n",
        "            ways_to_throw_given_fh = math.factorial(5) // (math.factorial(2) * math.factorial(3))\n",
        "            diff_fhses += ways_to_throw_given_fh\n",
        "\n",
        "print(f\"{diff_fhses}\")"
      ],
      "metadata": {
        "colab": {
          "base_uri": "https://localhost:8080/"
        },
        "id": "qu2Ib4aGjvVc",
        "outputId": "46914162-ba6e-44b0-a082-b018fc52f5f1"
      },
      "execution_count": 6,
      "outputs": [
        {
          "output_type": "stream",
          "name": "stdout",
          "text": [
            "300\n"
          ]
        }
      ]
    },
    {
      "cell_type": "code",
      "source": [
        "ways_to_throw_given_fh = 10\n",
        "diff_fhses = 300\n",
        "event_space_fh = ways_to_throw_given_fh * diff_fhses\n",
        "\n",
        "print(f\"Event space for full houses: {event_space_fh}\")"
      ],
      "metadata": {
        "colab": {
          "base_uri": "https://localhost:8080/"
        },
        "id": "Ug0HsPe3jvbX",
        "outputId": "c73292ca-31c0-42b0-826c-c70dab9a5933"
      },
      "execution_count": 7,
      "outputs": [
        {
          "output_type": "stream",
          "name": "stdout",
          "text": [
            "Event space for full houses: 3000\n"
          ]
        }
      ]
    },
    {
      "cell_type": "code",
      "source": [
        "sample_space_fh = 6 ** 5\n",
        "event_space_fh = 3000\n",
        "prob_fh = event_space_fh / sample_space_fh\n",
        "\n",
        "print(f\"{prob_fh}\")"
      ],
      "metadata": {
        "colab": {
          "base_uri": "https://localhost:8080/"
        },
        "id": "f2RE8FcxlFYF",
        "outputId": "489bd662-aa21-48f5-eff5-03643de4f025"
      },
      "execution_count": 8,
      "outputs": [
        {
          "output_type": "stream",
          "name": "stdout",
          "text": [
            "0.38580246913580246\n"
          ]
        }
      ]
    },
    {
      "cell_type": "code",
      "source": [],
      "metadata": {
        "id": "WDdM2YA7lFel"
      },
      "execution_count": null,
      "outputs": []
    },
    {
      "cell_type": "code",
      "source": [],
      "metadata": {
        "id": "QP5kJt-tlFk8"
      },
      "execution_count": null,
      "outputs": []
    }
  ]
}